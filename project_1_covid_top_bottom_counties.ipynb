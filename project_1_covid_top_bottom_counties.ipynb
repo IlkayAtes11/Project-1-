{
 "cells": [
  {
   "cell_type": "code",
   "execution_count": 1,
   "metadata": {},
   "outputs": [
    {
     "data": {
      "text/html": [
       "<div>\n",
       "<style scoped>\n",
       "    .dataframe tbody tr th:only-of-type {\n",
       "        vertical-align: middle;\n",
       "    }\n",
       "\n",
       "    .dataframe tbody tr th {\n",
       "        vertical-align: top;\n",
       "    }\n",
       "\n",
       "    .dataframe thead th {\n",
       "        text-align: right;\n",
       "    }\n",
       "</style>\n",
       "<table border=\"1\" class=\"dataframe\">\n",
       "  <thead>\n",
       "    <tr style=\"text-align: right;\">\n",
       "      <th></th>\n",
       "      <th>date</th>\n",
       "      <th>county</th>\n",
       "      <th>state</th>\n",
       "      <th>cases</th>\n",
       "      <th>deaths</th>\n",
       "    </tr>\n",
       "  </thead>\n",
       "  <tbody>\n",
       "    <tr>\n",
       "      <th>0</th>\n",
       "      <td>2020-07-01</td>\n",
       "      <td>Alameda</td>\n",
       "      <td>California</td>\n",
       "      <td>6177</td>\n",
       "      <td>136.0</td>\n",
       "    </tr>\n",
       "    <tr>\n",
       "      <th>1</th>\n",
       "      <td>2020-07-01</td>\n",
       "      <td>Alpine</td>\n",
       "      <td>California</td>\n",
       "      <td>1</td>\n",
       "      <td>0.0</td>\n",
       "    </tr>\n",
       "    <tr>\n",
       "      <th>2</th>\n",
       "      <td>2020-07-01</td>\n",
       "      <td>Amador</td>\n",
       "      <td>California</td>\n",
       "      <td>22</td>\n",
       "      <td>0.0</td>\n",
       "    </tr>\n",
       "    <tr>\n",
       "      <th>3</th>\n",
       "      <td>2020-07-01</td>\n",
       "      <td>Butte</td>\n",
       "      <td>California</td>\n",
       "      <td>189</td>\n",
       "      <td>2.0</td>\n",
       "    </tr>\n",
       "    <tr>\n",
       "      <th>4</th>\n",
       "      <td>2020-07-01</td>\n",
       "      <td>Calaveras</td>\n",
       "      <td>California</td>\n",
       "      <td>40</td>\n",
       "      <td>0.0</td>\n",
       "    </tr>\n",
       "  </tbody>\n",
       "</table>\n",
       "</div>"
      ],
      "text/plain": [
       "         date     county       state  cases  deaths\n",
       "0  2020-07-01    Alameda  California   6177   136.0\n",
       "1  2020-07-01     Alpine  California      1     0.0\n",
       "2  2020-07-01     Amador  California     22     0.0\n",
       "3  2020-07-01      Butte  California    189     2.0\n",
       "4  2020-07-01  Calaveras  California     40     0.0"
      ]
     },
     "execution_count": 1,
     "metadata": {},
     "output_type": "execute_result"
    }
   ],
   "source": [
    "# Dependencies and Setup\n",
    "import pandas as pd\n",
    "import matplotlib.pyplot as plt\n",
    "\n",
    "# File to Load (Remember to Change These)\n",
    "data = \"ca_data_jul20-jul21.csv\"\n",
    "\n",
    "# Read Data File and store into Pandas DataFrames\n",
    "covid_data = pd.read_csv(data)\n",
    "covid_data.head()"
   ]
  },
  {
   "cell_type": "code",
   "execution_count": 2,
   "metadata": {},
   "outputs": [
    {
     "data": {
      "text/html": [
       "<div>\n",
       "<style scoped>\n",
       "    .dataframe tbody tr th:only-of-type {\n",
       "        vertical-align: middle;\n",
       "    }\n",
       "\n",
       "    .dataframe tbody tr th {\n",
       "        vertical-align: top;\n",
       "    }\n",
       "\n",
       "    .dataframe thead th {\n",
       "        text-align: right;\n",
       "    }\n",
       "</style>\n",
       "<table border=\"1\" class=\"dataframe\">\n",
       "  <thead>\n",
       "    <tr style=\"text-align: right;\">\n",
       "      <th></th>\n",
       "      <th>date</th>\n",
       "      <th>state</th>\n",
       "      <th>cases</th>\n",
       "      <th>deaths</th>\n",
       "    </tr>\n",
       "    <tr>\n",
       "      <th>county</th>\n",
       "      <th></th>\n",
       "      <th></th>\n",
       "      <th></th>\n",
       "      <th></th>\n",
       "    </tr>\n",
       "  </thead>\n",
       "  <tbody>\n",
       "    <tr>\n",
       "      <th>Alameda</th>\n",
       "      <td>2021-06-30</td>\n",
       "      <td>California</td>\n",
       "      <td>90297</td>\n",
       "      <td>1693.0</td>\n",
       "    </tr>\n",
       "    <tr>\n",
       "      <th>Alpine</th>\n",
       "      <td>2021-06-30</td>\n",
       "      <td>California</td>\n",
       "      <td>89</td>\n",
       "      <td>0.0</td>\n",
       "    </tr>\n",
       "    <tr>\n",
       "      <th>Amador</th>\n",
       "      <td>2021-06-30</td>\n",
       "      <td>California</td>\n",
       "      <td>3753</td>\n",
       "      <td>47.0</td>\n",
       "    </tr>\n",
       "    <tr>\n",
       "      <th>Butte</th>\n",
       "      <td>2021-06-30</td>\n",
       "      <td>California</td>\n",
       "      <td>12697</td>\n",
       "      <td>201.0</td>\n",
       "    </tr>\n",
       "    <tr>\n",
       "      <th>Calaveras</th>\n",
       "      <td>2021-06-30</td>\n",
       "      <td>California</td>\n",
       "      <td>2210</td>\n",
       "      <td>56.0</td>\n",
       "    </tr>\n",
       "  </tbody>\n",
       "</table>\n",
       "</div>"
      ],
      "text/plain": [
       "                 date       state  cases  deaths\n",
       "county                                          \n",
       "Alameda    2021-06-30  California  90297  1693.0\n",
       "Alpine     2021-06-30  California     89     0.0\n",
       "Amador     2021-06-30  California   3753    47.0\n",
       "Butte      2021-06-30  California  12697   201.0\n",
       "Calaveras  2021-06-30  California   2210    56.0"
      ]
     },
     "execution_count": 2,
     "metadata": {},
     "output_type": "execute_result"
    }
   ],
   "source": [
    "# Create a dataframe which has the ending numbers of cases and deaths in our selected period which is grouped according to county\n",
    "end = covid_data.groupby('county').max()\n",
    "end.head()\n"
   ]
  },
  {
   "cell_type": "code",
   "execution_count": 3,
   "metadata": {},
   "outputs": [
    {
     "data": {
      "text/html": [
       "<div>\n",
       "<style scoped>\n",
       "    .dataframe tbody tr th:only-of-type {\n",
       "        vertical-align: middle;\n",
       "    }\n",
       "\n",
       "    .dataframe tbody tr th {\n",
       "        vertical-align: top;\n",
       "    }\n",
       "\n",
       "    .dataframe thead th {\n",
       "        text-align: right;\n",
       "    }\n",
       "</style>\n",
       "<table border=\"1\" class=\"dataframe\">\n",
       "  <thead>\n",
       "    <tr style=\"text-align: right;\">\n",
       "      <th></th>\n",
       "      <th>date</th>\n",
       "      <th>state</th>\n",
       "      <th>cases</th>\n",
       "      <th>deaths</th>\n",
       "    </tr>\n",
       "    <tr>\n",
       "      <th>county</th>\n",
       "      <th></th>\n",
       "      <th></th>\n",
       "      <th></th>\n",
       "      <th></th>\n",
       "    </tr>\n",
       "  </thead>\n",
       "  <tbody>\n",
       "    <tr>\n",
       "      <th>Alameda</th>\n",
       "      <td>2020-07-01</td>\n",
       "      <td>California</td>\n",
       "      <td>6177</td>\n",
       "      <td>136.0</td>\n",
       "    </tr>\n",
       "    <tr>\n",
       "      <th>Alpine</th>\n",
       "      <td>2020-07-01</td>\n",
       "      <td>California</td>\n",
       "      <td>1</td>\n",
       "      <td>0.0</td>\n",
       "    </tr>\n",
       "    <tr>\n",
       "      <th>Amador</th>\n",
       "      <td>2020-07-01</td>\n",
       "      <td>California</td>\n",
       "      <td>22</td>\n",
       "      <td>0.0</td>\n",
       "    </tr>\n",
       "    <tr>\n",
       "      <th>Butte</th>\n",
       "      <td>2020-07-01</td>\n",
       "      <td>California</td>\n",
       "      <td>189</td>\n",
       "      <td>2.0</td>\n",
       "    </tr>\n",
       "    <tr>\n",
       "      <th>Calaveras</th>\n",
       "      <td>2020-07-01</td>\n",
       "      <td>California</td>\n",
       "      <td>40</td>\n",
       "      <td>0.0</td>\n",
       "    </tr>\n",
       "  </tbody>\n",
       "</table>\n",
       "</div>"
      ],
      "text/plain": [
       "                 date       state  cases  deaths\n",
       "county                                          \n",
       "Alameda    2020-07-01  California   6177   136.0\n",
       "Alpine     2020-07-01  California      1     0.0\n",
       "Amador     2020-07-01  California     22     0.0\n",
       "Butte      2020-07-01  California    189     2.0\n",
       "Calaveras  2020-07-01  California     40     0.0"
      ]
     },
     "execution_count": 3,
     "metadata": {},
     "output_type": "execute_result"
    }
   ],
   "source": [
    "# Create a dataframe which has the beginning numbers of cases and deaths in our selected period which is grouped according to county\n",
    "beginning = covid_data.groupby('county').min()\n",
    "beginning.head()"
   ]
  },
  {
   "cell_type": "code",
   "execution_count": 4,
   "metadata": {},
   "outputs": [
    {
     "data": {
      "text/html": [
       "<div>\n",
       "<style scoped>\n",
       "    .dataframe tbody tr th:only-of-type {\n",
       "        vertical-align: middle;\n",
       "    }\n",
       "\n",
       "    .dataframe tbody tr th {\n",
       "        vertical-align: top;\n",
       "    }\n",
       "\n",
       "    .dataframe thead th {\n",
       "        text-align: right;\n",
       "    }\n",
       "</style>\n",
       "<table border=\"1\" class=\"dataframe\">\n",
       "  <thead>\n",
       "    <tr style=\"text-align: right;\">\n",
       "      <th></th>\n",
       "      <th>date</th>\n",
       "      <th>state</th>\n",
       "      <th>cases</th>\n",
       "      <th>deaths</th>\n",
       "      <th>cases in timeframe</th>\n",
       "      <th>deaths in timeframe</th>\n",
       "    </tr>\n",
       "    <tr>\n",
       "      <th>county</th>\n",
       "      <th></th>\n",
       "      <th></th>\n",
       "      <th></th>\n",
       "      <th></th>\n",
       "      <th></th>\n",
       "      <th></th>\n",
       "    </tr>\n",
       "  </thead>\n",
       "  <tbody>\n",
       "    <tr>\n",
       "      <th>Alameda</th>\n",
       "      <td>2021-06-30</td>\n",
       "      <td>California</td>\n",
       "      <td>90297</td>\n",
       "      <td>1693.0</td>\n",
       "      <td>84120</td>\n",
       "      <td>1557.0</td>\n",
       "    </tr>\n",
       "    <tr>\n",
       "      <th>Alpine</th>\n",
       "      <td>2021-06-30</td>\n",
       "      <td>California</td>\n",
       "      <td>89</td>\n",
       "      <td>0.0</td>\n",
       "      <td>88</td>\n",
       "      <td>0.0</td>\n",
       "    </tr>\n",
       "    <tr>\n",
       "      <th>Amador</th>\n",
       "      <td>2021-06-30</td>\n",
       "      <td>California</td>\n",
       "      <td>3753</td>\n",
       "      <td>47.0</td>\n",
       "      <td>3731</td>\n",
       "      <td>47.0</td>\n",
       "    </tr>\n",
       "    <tr>\n",
       "      <th>Butte</th>\n",
       "      <td>2021-06-30</td>\n",
       "      <td>California</td>\n",
       "      <td>12697</td>\n",
       "      <td>201.0</td>\n",
       "      <td>12508</td>\n",
       "      <td>199.0</td>\n",
       "    </tr>\n",
       "    <tr>\n",
       "      <th>Calaveras</th>\n",
       "      <td>2021-06-30</td>\n",
       "      <td>California</td>\n",
       "      <td>2210</td>\n",
       "      <td>56.0</td>\n",
       "      <td>2170</td>\n",
       "      <td>56.0</td>\n",
       "    </tr>\n",
       "  </tbody>\n",
       "</table>\n",
       "</div>"
      ],
      "text/plain": [
       "                 date       state  cases  deaths  cases in timeframe  \\\n",
       "county                                                                 \n",
       "Alameda    2021-06-30  California  90297  1693.0               84120   \n",
       "Alpine     2021-06-30  California     89     0.0                  88   \n",
       "Amador     2021-06-30  California   3753    47.0                3731   \n",
       "Butte      2021-06-30  California  12697   201.0               12508   \n",
       "Calaveras  2021-06-30  California   2210    56.0                2170   \n",
       "\n",
       "           deaths in timeframe  \n",
       "county                          \n",
       "Alameda                 1557.0  \n",
       "Alpine                     0.0  \n",
       "Amador                    47.0  \n",
       "Butte                    199.0  \n",
       "Calaveras                 56.0  "
      ]
     },
     "execution_count": 4,
     "metadata": {},
     "output_type": "execute_result"
    }
   ],
   "source": [
    "# Creating two new columns which are calculating the numbers of cases and deaths just in our sellected period\n",
    "end['cases in timeframe'] = end['cases'] - beginning['cases']\n",
    "end['deaths in timeframe'] = end['deaths'] - beginning['deaths']\n",
    "end.head()"
   ]
  },
  {
   "cell_type": "code",
   "execution_count": 5,
   "metadata": {},
   "outputs": [
    {
     "data": {
      "text/html": [
       "<div>\n",
       "<style scoped>\n",
       "    .dataframe tbody tr th:only-of-type {\n",
       "        vertical-align: middle;\n",
       "    }\n",
       "\n",
       "    .dataframe tbody tr th {\n",
       "        vertical-align: top;\n",
       "    }\n",
       "\n",
       "    .dataframe thead th {\n",
       "        text-align: right;\n",
       "    }\n",
       "</style>\n",
       "<table border=\"1\" class=\"dataframe\">\n",
       "  <thead>\n",
       "    <tr style=\"text-align: right;\">\n",
       "      <th></th>\n",
       "      <th>cases in timeframe</th>\n",
       "    </tr>\n",
       "    <tr>\n",
       "      <th>county</th>\n",
       "      <th></th>\n",
       "    </tr>\n",
       "  </thead>\n",
       "  <tbody>\n",
       "    <tr>\n",
       "      <th>Los Angeles</th>\n",
       "      <td>1145401</td>\n",
       "    </tr>\n",
       "    <tr>\n",
       "      <th>San Bernardino</th>\n",
       "      <td>287017</td>\n",
       "    </tr>\n",
       "    <tr>\n",
       "      <th>Riverside</th>\n",
       "      <td>283143</td>\n",
       "    </tr>\n",
       "    <tr>\n",
       "      <th>San Diego</th>\n",
       "      <td>267876</td>\n",
       "    </tr>\n",
       "    <tr>\n",
       "      <th>Orange</th>\n",
       "      <td>259148</td>\n",
       "    </tr>\n",
       "  </tbody>\n",
       "</table>\n",
       "</div>"
      ],
      "text/plain": [
       "                cases in timeframe\n",
       "county                            \n",
       "Los Angeles                1145401\n",
       "San Bernardino              287017\n",
       "Riverside                   283143\n",
       "San Diego                   267876\n",
       "Orange                      259148"
      ]
     },
     "execution_count": 5,
     "metadata": {},
     "output_type": "execute_result"
    }
   ],
   "source": [
    "# Finding the top 5 countries according to number of cases\n",
    "top_counties_cases= end.nlargest(5, 'cases in timeframe')\n",
    "top_counties_cases = top_counties_cases.drop(columns=['date', 'state','cases','deaths','deaths in timeframe'])\n",
    "top_counties_cases\n"
   ]
  },
  {
   "cell_type": "code",
   "execution_count": 6,
   "metadata": {},
   "outputs": [
    {
     "data": {
      "text/html": [
       "<div>\n",
       "<style scoped>\n",
       "    .dataframe tbody tr th:only-of-type {\n",
       "        vertical-align: middle;\n",
       "    }\n",
       "\n",
       "    .dataframe tbody tr th {\n",
       "        vertical-align: top;\n",
       "    }\n",
       "\n",
       "    .dataframe thead th {\n",
       "        text-align: right;\n",
       "    }\n",
       "</style>\n",
       "<table border=\"1\" class=\"dataframe\">\n",
       "  <thead>\n",
       "    <tr style=\"text-align: right;\">\n",
       "      <th></th>\n",
       "      <th>deaths in timeframe</th>\n",
       "    </tr>\n",
       "    <tr>\n",
       "      <th>county</th>\n",
       "      <th></th>\n",
       "    </tr>\n",
       "  </thead>\n",
       "  <tbody>\n",
       "    <tr>\n",
       "      <th>Los Angeles</th>\n",
       "      <td>21096.0</td>\n",
       "    </tr>\n",
       "    <tr>\n",
       "      <th>Orange</th>\n",
       "      <td>4779.0</td>\n",
       "    </tr>\n",
       "    <tr>\n",
       "      <th>San Bernardino</th>\n",
       "      <td>4682.0</td>\n",
       "    </tr>\n",
       "    <tr>\n",
       "      <th>Riverside</th>\n",
       "      <td>4173.0</td>\n",
       "    </tr>\n",
       "    <tr>\n",
       "      <th>San Diego</th>\n",
       "      <td>3408.0</td>\n",
       "    </tr>\n",
       "  </tbody>\n",
       "</table>\n",
       "</div>"
      ],
      "text/plain": [
       "                deaths in timeframe\n",
       "county                             \n",
       "Los Angeles                 21096.0\n",
       "Orange                       4779.0\n",
       "San Bernardino               4682.0\n",
       "Riverside                    4173.0\n",
       "San Diego                    3408.0"
      ]
     },
     "execution_count": 6,
     "metadata": {},
     "output_type": "execute_result"
    }
   ],
   "source": [
    "# Finding the top 5 countries according to number of deaths\n",
    "top_counties_deaths = end.nlargest(5, 'deaths in timeframe')\n",
    "top_counties_deaths = top_counties_deaths.drop(columns=['date', 'state','cases','deaths','cases in timeframe'])\n",
    "top_counties_deaths"
   ]
  },
  {
   "cell_type": "code",
   "execution_count": 7,
   "metadata": {},
   "outputs": [
    {
     "data": {
      "text/html": [
       "<div>\n",
       "<style scoped>\n",
       "    .dataframe tbody tr th:only-of-type {\n",
       "        vertical-align: middle;\n",
       "    }\n",
       "\n",
       "    .dataframe tbody tr th {\n",
       "        vertical-align: top;\n",
       "    }\n",
       "\n",
       "    .dataframe thead th {\n",
       "        text-align: right;\n",
       "    }\n",
       "</style>\n",
       "<table border=\"1\" class=\"dataframe\">\n",
       "  <thead>\n",
       "    <tr style=\"text-align: right;\">\n",
       "      <th></th>\n",
       "      <th>cases in timeframe</th>\n",
       "    </tr>\n",
       "    <tr>\n",
       "      <th>county</th>\n",
       "      <th></th>\n",
       "    </tr>\n",
       "  </thead>\n",
       "  <tbody>\n",
       "    <tr>\n",
       "      <th>Sierra</th>\n",
       "      <td>58</td>\n",
       "    </tr>\n",
       "    <tr>\n",
       "      <th>Alpine</th>\n",
       "      <td>88</td>\n",
       "    </tr>\n",
       "    <tr>\n",
       "      <th>Trinity</th>\n",
       "      <td>339</td>\n",
       "    </tr>\n",
       "    <tr>\n",
       "      <th>Mariposa</th>\n",
       "      <td>440</td>\n",
       "    </tr>\n",
       "    <tr>\n",
       "      <th>Modoc</th>\n",
       "      <td>564</td>\n",
       "    </tr>\n",
       "  </tbody>\n",
       "</table>\n",
       "</div>"
      ],
      "text/plain": [
       "          cases in timeframe\n",
       "county                      \n",
       "Sierra                    58\n",
       "Alpine                    88\n",
       "Trinity                  339\n",
       "Mariposa                 440\n",
       "Modoc                    564"
      ]
     },
     "execution_count": 7,
     "metadata": {},
     "output_type": "execute_result"
    }
   ],
   "source": [
    "# Finding the bottom 5 countries according to number of cases\n",
    "bottom_counties_cases = end.nsmallest(5, 'cases in timeframe')\n",
    "bottom_counties_cases = bottom_counties_cases.drop(columns=['date', 'state','cases','deaths','deaths in timeframe'])\n",
    "bottom_counties_cases"
   ]
  },
  {
   "cell_type": "code",
   "execution_count": 8,
   "metadata": {},
   "outputs": [
    {
     "data": {
      "text/html": [
       "<div>\n",
       "<style scoped>\n",
       "    .dataframe tbody tr th:only-of-type {\n",
       "        vertical-align: middle;\n",
       "    }\n",
       "\n",
       "    .dataframe tbody tr th {\n",
       "        vertical-align: top;\n",
       "    }\n",
       "\n",
       "    .dataframe thead th {\n",
       "        text-align: right;\n",
       "    }\n",
       "</style>\n",
       "<table border=\"1\" class=\"dataframe\">\n",
       "  <thead>\n",
       "    <tr style=\"text-align: right;\">\n",
       "      <th></th>\n",
       "      <th>deaths in timeframe</th>\n",
       "    </tr>\n",
       "    <tr>\n",
       "      <th>county</th>\n",
       "      <th></th>\n",
       "    </tr>\n",
       "  </thead>\n",
       "  <tbody>\n",
       "    <tr>\n",
       "      <th>Alpine</th>\n",
       "      <td>0.0</td>\n",
       "    </tr>\n",
       "    <tr>\n",
       "      <th>Sierra</th>\n",
       "      <td>0.0</td>\n",
       "    </tr>\n",
       "    <tr>\n",
       "      <th>Mono</th>\n",
       "      <td>3.0</td>\n",
       "    </tr>\n",
       "    <tr>\n",
       "      <th>Modoc</th>\n",
       "      <td>5.0</td>\n",
       "    </tr>\n",
       "    <tr>\n",
       "      <th>Trinity</th>\n",
       "      <td>5.0</td>\n",
       "    </tr>\n",
       "  </tbody>\n",
       "</table>\n",
       "</div>"
      ],
      "text/plain": [
       "         deaths in timeframe\n",
       "county                      \n",
       "Alpine                   0.0\n",
       "Sierra                   0.0\n",
       "Mono                     3.0\n",
       "Modoc                    5.0\n",
       "Trinity                  5.0"
      ]
     },
     "execution_count": 8,
     "metadata": {},
     "output_type": "execute_result"
    }
   ],
   "source": [
    "# Finding the bottom 5 countries according to number of deaths\n",
    "bottom_counties_deaths = end.nsmallest(5, 'deaths in timeframe')\n",
    "bottom_counties_deaths = bottom_counties_deaths.drop(columns=['date', 'state','cases','deaths','cases in timeframe'])\n",
    "bottom_counties_deaths"
   ]
  },
  {
   "cell_type": "code",
   "execution_count": 9,
   "metadata": {},
   "outputs": [
    {
     "data": {
      "image/png": "[encoded data removed]",
      "text/plain": [
       "<Figure size 432x288 with 1 Axes>"
      ]
     },
     "metadata": {
      "needs_background": "light"
     },
     "output_type": "display_data"
    }
   ],
   "source": [
    "# Graphing Top 5 Counties in California according to number of cases in choosen period\n",
    "plot = top_counties_cases.plot(kind = 'bar', color=\"orange\")\n",
    "plot.set_xlabel(\"County\", fontsize=15)\n",
    "plot.set_ylabel(\"Number of cases (in millions)\",x=3, fontsize=13)\n",
    "plt.suptitle(\"Top 5 Counties in California (# cases)\",y=1.1, fontsize=18)\n",
    "plt.title(\"from July 1st 2020- June 30th 2021\", y=1.05, fontsize=10)\n",
    "plt.savefig(\"./Images/top_counties_cases.png\")"
   ]
  },
  {
   "cell_type": "code",
   "execution_count": 10,
   "metadata": {},
   "outputs": [
    {
     "data": {
      "image/png": "[encoded data removed]",
      "text/plain": [
       "<Figure size 432x288 with 1 Axes>"
      ]
     },
     "metadata": {
      "needs_background": "light"
     },
     "output_type": "display_data"
    }
   ],
   "source": [
    "# Graphing Top 5 Counties in California according to number of deaths in choosen period\n",
    "plot = top_counties_deaths.plot(kind = 'bar', color= 'orange')\n",
    "plot.set_xlabel(\"County\",fontsize = 15)\n",
    "plot.set_ylabel(\"Number of deaths\",x=3, fontsize=13)\n",
    "plt.suptitle(\"Top 5 Counties in California (# deaths)\",y=1.1, fontsize=18)\n",
    "plt.title(\"from July 1st 2020- June 30th 2021\", y=1.05, fontsize=10)\n",
    "plt.savefig(\"./Images/top_counties_deaths.png\")\n"
   ]
  },
  {
   "cell_type": "code",
   "execution_count": 11,
   "metadata": {},
   "outputs": [
    {
     "data": {
      "image/png": "[encoded data removed]",
      "text/plain": [
       "<Figure size 432x288 with 1 Axes>"
      ]
     },
     "metadata": {
      "needs_background": "light"
     },
     "output_type": "display_data"
    }
   ],
   "source": [
    "# Graphing Bottom 5 Counties in California according to number of cases in choosen period\n",
    "plot = bottom_counties_cases.plot(kind = 'bar', color=\"orange\")\n",
    "plot.set_xlabel(\"County\", fontsize=15)\n",
    "plot.set_ylabel(\"Number of cases\", x=3, fontsize = 13)\n",
    "plt.suptitle(\"Bottom 5 Counties in California (# cases)\", y = 1.1, fontsize = 18)\n",
    "plt.title(\"from July 1st 2020- June 30th 2021\", y=1.05, fontsize=10)\n",
    "plt.savefig(\"./Images/bottom_counties_cases.png\")"
   ]
  },
  {
   "cell_type": "code",
   "execution_count": 12,
   "metadata": {},
   "outputs": [
    {
     "data": {
      "image/png": "[encoded data removed]",
      "text/plain": [
       "<Figure size 432x288 with 1 Axes>"
      ]
     },
     "metadata": {
      "needs_background": "light"
     },
     "output_type": "display_data"
    }
   ],
   "source": [
    "# Graphing Bottom 5 Counties in California according to number of deaths in choosen period\n",
    "plot = bottom_counties_deaths.plot(kind = 'bar', color = 'orange')\n",
    "plot.set_xlabel(\"County\", fontsize = 15)\n",
    "plot.set_ylabel(\"Number of deaths\", x=3, fontsize = 13)\n",
    "plt.suptitle(\"Bottom 5 Counties in California (# deaths)\", y = 1.1, fontsize = 18)\n",
    "plt.title(\"from July 1st 2020- June 30th 2021\", y=1.05, fontsize=10)\n",
    "plt.savefig(\"./Images/bottom_counties_deaths.png\")"
   ]
  }
 ],
 "metadata": {
  "kernelspec": {
   "display_name": "Python 3.9.12 ('base')",
   "language": "python",
   "name": "python3"
  },
  "language_info": {
   "codemirror_mode": {
    "name": "ipython",
    "version": 3
   },
   "file_extension": ".py",
   "mimetype": "text/x-python",
   "name": "python",
   "nbconvert_exporter": "python",
   "pygments_lexer": "ipython3",
   "version": "3.9.12"
  },
  "orig_nbformat": 4,
  "vscode": {
   "interpreter": {
    "hash": "3f4da9ad29e059a40e4a65ef355beaf2f6b9d5f6b9e791e2b0a14c28b2ec070e"
   }
  }
 },
 "nbformat": 4,
 "nbformat_minor": 2
}
